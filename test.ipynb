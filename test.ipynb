{
 "cells": [
  {
   "cell_type": "code",
   "execution_count": 1,
   "metadata": {},
   "outputs": [
    {
     "name": "stderr",
     "output_type": "stream",
     "text": [
      "Since the GPL-licensed package `unidecode` is not installed, using Python's `unicodedata` package which yields worse results.\n",
      "Cleaning Text: 100%|██████████| 2/2 [00:00<00:00, 453.19it/s]\n"
     ]
    },
    {
     "data": {
      "text/plain": [
       "['Happily clean your text!', \"I'm 33 years old.\"]"
      ]
     },
     "execution_count": 1,
     "metadata": {},
     "output_type": "execute_result"
    }
   ],
   "source": [
    "from cleantext.sklearn import CleanTransformer\n",
    "\n",
    "cleaner = CleanTransformer(lang=\"en\",lower=False, fix_unicode=True, no_line_breaks=True, \n",
    "                           no_urls=True,replace_with_url=\"\",\n",
    "                           no_emails=True,replace_with_email=\"\",\n",
    "                           no_phone_numbers=True,replace_with_phone_number=\"\",\n",
    "                           no_punct=False)\n",
    "\n",
    "cleaner.transform(['Happily clean your text!https://arc.net/l/quote/akcckblo', 'I\\'m 33 years old.'])"
   ]
  }
 ],
 "metadata": {
  "kernelspec": {
   "display_name": "Python 3",
   "language": "python",
   "name": "python3"
  },
  "language_info": {
   "codemirror_mode": {
    "name": "ipython",
    "version": 3
   },
   "file_extension": ".py",
   "mimetype": "text/x-python",
   "name": "python",
   "nbconvert_exporter": "python",
   "pygments_lexer": "ipython3",
   "version": "3.11.0"
  }
 },
 "nbformat": 4,
 "nbformat_minor": 2
}
